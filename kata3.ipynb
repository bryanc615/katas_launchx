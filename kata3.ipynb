{
 "cells": [
  {
   "cell_type": "markdown",
   "metadata": {},
   "source": [
    "# Kata 3"
   ]
  },
  {
   "cell_type": "markdown",
   "metadata": {},
   "source": [
    "### Ejercicio 1"
   ]
  },
  {
   "cell_type": "code",
   "execution_count": 9,
   "metadata": {},
   "outputs": [
    {
     "name": "stdout",
     "output_type": "stream",
     "text": [
      "Se acerca un asteroide rapidamente!\n"
     ]
    }
   ],
   "source": [
    "Vast = 49\n",
    "if Vast > 25:\n",
    "    print('Se acerca un asteroide rapidamente!')\n",
    "else:\n",
    "    print('Todo esta bien!')"
   ]
  },
  {
   "cell_type": "markdown",
   "metadata": {},
   "source": [
    "### Ejercicio 2"
   ]
  },
  {
   "cell_type": "code",
   "execution_count": 10,
   "metadata": {},
   "outputs": [
    {
     "name": "stdout",
     "output_type": "stream",
     "text": [
      "Todo de maravilla!\n"
     ]
    }
   ],
   "source": [
    "Vast = 19\n",
    "if Vast > 20:\n",
    "    print('Un rayo. Posible asteroide peligroso!!')\n",
    "elif Vast == 20:\n",
    "    print('Un rayo. Posible asteroide peligroso!!')\n",
    "else:\n",
    "    print('Todo de maravilla!')"
   ]
  },
  {
   "cell_type": "markdown",
   "metadata": {},
   "source": [
    "### Ejercicio 3"
   ]
  },
  {
   "cell_type": "code",
   "execution_count": 11,
   "metadata": {},
   "outputs": [
    {
     "name": "stdout",
     "output_type": "stream",
     "text": [
      "Un rayo. Posible asteroide peligroso!!\n"
     ]
    }
   ],
   "source": [
    "Vast = 25\n",
    "Tast = 40\n",
    "if Vast > 25 and Tast > 25:\n",
    "    print('Peligro!! Un gran asteroide se acerca rapidamente')\n",
    "elif Vast >= 20:\n",
    "    print('Un rayo. Posible asteroide peligroso!!')\n",
    "elif Tast < 25:\n",
    "    print('Un pequeño asteroide inofensivo sa acerca')\n",
    "else:\n",
    "    print('Todo de maravilla!')"
   ]
  }
 ],
 "metadata": {
  "interpreter": {
   "hash": "132545760ff53e49f2fcfb7a5e2969b210c722c80e10ccdc0caa4a7a19b3c8e1"
  },
  "kernelspec": {
   "display_name": "Python 3.7.3 ('base')",
   "language": "python",
   "name": "python3"
  },
  "language_info": {
   "codemirror_mode": {
    "name": "ipython",
    "version": 3
   },
   "file_extension": ".py",
   "mimetype": "text/x-python",
   "name": "python",
   "nbconvert_exporter": "python",
   "pygments_lexer": "ipython3",
   "version": "3.7.3"
  },
  "orig_nbformat": 4
 },
 "nbformat": 4,
 "nbformat_minor": 2
}
