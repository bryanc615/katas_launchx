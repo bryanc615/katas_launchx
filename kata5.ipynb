{
 "cells": [
  {
   "cell_type": "markdown",
   "metadata": {},
   "source": [
    "# Kata 5\n",
    "### Ejercicio 1"
   ]
  },
  {
   "cell_type": "code",
   "execution_count": 7,
   "metadata": {},
   "outputs": [],
   "source": [
    "dtierra = 149597870\n",
    "djupiter = 778547200"
   ]
  },
  {
   "cell_type": "code",
   "execution_count": 8,
   "metadata": {},
   "outputs": [
    {
     "name": "stdout",
     "output_type": "stream",
     "text": [
      "Distancia entre Tierra y Jupiter en Km: 628949330\n",
      "Distancia entre Tierra y Jupiter en Mi: 390577533.93\n"
     ]
    }
   ],
   "source": [
    "dTyJ = djupiter - dtierra\n",
    "print('Distancia entre Tierra y Jupiter en Km: '+str(dTyJ))\n",
    "print('Distancia entre Tierra y Jupiter en Mi: '+str(dTyJ*.621))"
   ]
  },
  {
   "cell_type": "markdown",
   "metadata": {},
   "source": [
    "### Ejercicio 2"
   ]
  },
  {
   "cell_type": "code",
   "execution_count": 9,
   "metadata": {},
   "outputs": [],
   "source": [
    "d1 = input('Distancia entre Sol y planeta 1: ')\n",
    "d2 = input('Distancia entre Sol y planeta 2: ')"
   ]
  },
  {
   "cell_type": "code",
   "execution_count": 10,
   "metadata": {},
   "outputs": [],
   "source": [
    "d1 = int(d1)\n",
    "d2 = int(d2)"
   ]
  },
  {
   "cell_type": "code",
   "execution_count": 11,
   "metadata": {},
   "outputs": [
    {
     "name": "stdout",
     "output_type": "stream",
     "text": [
      "Distancia entre planeta 1 y planeta 2 en Km: 170000000\n",
      "Distancia entre planeta 1 y planeta 2 en Mi: 105570000.0\n"
     ]
    }
   ],
   "source": [
    "distk = abs(d1 - d2)\n",
    "print('Distancia entre planeta 1 y planeta 2 en Km: '+str(distk))\n",
    "print('Distancia entre planeta 1 y planeta 2 en Mi: '+str(distk*.621))"
   ]
  }
 ],
 "metadata": {
  "interpreter": {
   "hash": "132545760ff53e49f2fcfb7a5e2969b210c722c80e10ccdc0caa4a7a19b3c8e1"
  },
  "kernelspec": {
   "display_name": "Python 3.7.3 ('base')",
   "language": "python",
   "name": "python3"
  },
  "language_info": {
   "codemirror_mode": {
    "name": "ipython",
    "version": 3
   },
   "file_extension": ".py",
   "mimetype": "text/x-python",
   "name": "python",
   "nbconvert_exporter": "python",
   "pygments_lexer": "ipython3",
   "version": "3.7.3"
  },
  "orig_nbformat": 4
 },
 "nbformat": 4,
 "nbformat_minor": 2
}
