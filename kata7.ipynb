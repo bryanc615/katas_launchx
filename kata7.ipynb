{
 "cells": [
  {
   "cell_type": "markdown",
   "metadata": {},
   "source": [
    "# Kata 7\n",
    "### Ejercicio 1"
   ]
  },
  {
   "cell_type": "code",
   "execution_count": null,
   "metadata": {},
   "outputs": [],
   "source": [
    "new_planet=''\n",
    "planets=[]\n",
    "while new_planet.lower() != 'done':\n",
    "    if new_planet != '':\n",
    "        planets.append(new_planet.capitalize())\n",
    "    new_planet = input('Escriba el nombre de un planeta o \"done\" para terminar: ')"
   ]
  },
  {
   "cell_type": "markdown",
   "metadata": {},
   "source": [
    "### Ejercicio 2"
   ]
  },
  {
   "cell_type": "code",
   "execution_count": null,
   "metadata": {},
   "outputs": [],
   "source": [
    "for p in planets:\n",
    "    print(p)"
   ]
  }
 ],
 "metadata": {
  "interpreter": {
   "hash": "132545760ff53e49f2fcfb7a5e2969b210c722c80e10ccdc0caa4a7a19b3c8e1"
  },
  "kernelspec": {
   "display_name": "Python 3.7.3 ('base')",
   "language": "python",
   "name": "python3"
  },
  "language_info": {
   "codemirror_mode": {
    "name": "ipython",
    "version": 3
   },
   "file_extension": ".py",
   "mimetype": "text/x-python",
   "name": "python",
   "nbconvert_exporter": "python",
   "pygments_lexer": "ipython3",
   "version": "3.7.3"
  },
  "orig_nbformat": 4
 },
 "nbformat": 4,
 "nbformat_minor": 2
}
