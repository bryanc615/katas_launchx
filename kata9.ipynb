{
 "cells": [
  {
   "cell_type": "markdown",
   "metadata": {},
   "source": [
    "# Kata 9\n",
    "### Ejercicio 1"
   ]
  },
  {
   "cell_type": "code",
   "execution_count": 2,
   "metadata": {},
   "outputs": [],
   "source": [
    "def inf_tanques(tanque1, tanque2, tanque3):\n",
    "    prom = (tanque1+tanque2+tanque3)/3\n",
    "    return f\"\"\"Reporte de los tanques.\n",
    "    Promedio de los tanques: {prom}%\n",
    "    Tanque 1: {tanque1}%\n",
    "    Tanque 2: {tanque2}%\n",
    "    Tanque 3: {tanque3}%\"\"\""
   ]
  },
  {
   "cell_type": "code",
   "execution_count": 3,
   "metadata": {},
   "outputs": [
    {
     "name": "stdout",
     "output_type": "stream",
     "text": [
      "Reporte de los tanques.\n",
      "    Promedio de los tanques: 43.333333333333336%\n",
      "    Tanque 1: 23%\n",
      "    Tanque 2: 45%\n",
      "    Tanque 3: 62%\n"
     ]
    }
   ],
   "source": [
    "print(inf_tanques(23,45,62))"
   ]
  },
  {
   "cell_type": "code",
   "execution_count": 4,
   "metadata": {},
   "outputs": [],
   "source": [
    "def promedio(niveles):\n",
    "    suma = sum(niveles)\n",
    "    total = len(niveles)\n",
    "    return suma/total"
   ]
  },
  {
   "cell_type": "code",
   "execution_count": 5,
   "metadata": {},
   "outputs": [
    {
     "name": "stdout",
     "output_type": "stream",
     "text": [
      "Reporte de los tanques.\n",
      "    Promedio de los tanques: 43.333333333333336%\n",
      "    Tanque 1: 23%\n",
      "    Tanque 2: 45%\n",
      "    Tanque 3: 62%\n"
     ]
    }
   ],
   "source": [
    "def inf_tanques2(tanque1, tanque2, tanque3):\n",
    "    prom = promedio([tanque1,tanque2,tanque3])\n",
    "    return f\"\"\"Reporte de los tanques.\n",
    "    Promedio de los tanques: {prom}%\n",
    "    Tanque 1: {tanque1}%\n",
    "    Tanque 2: {tanque2}%\n",
    "    Tanque 3: {tanque3}%\"\"\"\n",
    "   \n",
    "print(inf_tanques(23,45,62))"
   ]
  },
  {
   "cell_type": "markdown",
   "metadata": {},
   "source": [
    "### Ejercicio 2"
   ]
  },
  {
   "cell_type": "code",
   "execution_count": 9,
   "metadata": {},
   "outputs": [
    {
     "name": "stdout",
     "output_type": "stream",
     "text": [
      "Reporte de la mision.\n",
      "    Tiempo total de mision: 65min\n",
      "    Destino: Moon\n",
      "    Combustible total: 500000 litros\n"
     ]
    }
   ],
   "source": [
    "def rep_mision(tiempo_prelan, tiempo_vuelo, destino, tanque1, tanque2):\n",
    "    return f\"\"\"Reporte de la mision.\n",
    "    Tiempo total de mision: {tiempo_prelan+tiempo_vuelo}min\n",
    "    Destino: {destino}\n",
    "    Combustible total: {tanque1+tanque2} litros\"\"\"\n",
    "print(rep_mision(14, 51, \"Moon\", 200000, 300000))"
   ]
  },
  {
   "cell_type": "code",
   "execution_count": 10,
   "metadata": {},
   "outputs": [
    {
     "name": "stdout",
     "output_type": "stream",
     "text": [
      "Reporte de la mision.\n",
      "    Tiempo total de mision: 76min\n",
      "    Destino: Moon\n",
      "    Combustible total: 500000 litros\n"
     ]
    }
   ],
   "source": [
    "def rep_mision2(destino, *tiempo, **combustible):\n",
    "    return f\"\"\"Reporte de la mision.\n",
    "    Tiempo total de mision: {sum(tiempo)}min\n",
    "    Destino: {destino}\n",
    "    Combustible total: {sum(combustible.values())} litros\"\"\"\n",
    "print(rep_mision2(\"Moon\", 10, 15, 51, main=300000, external=200000))"
   ]
  },
  {
   "cell_type": "code",
   "execution_count": 17,
   "metadata": {},
   "outputs": [
    {
     "name": "stdout",
     "output_type": "stream",
     "text": [
      "Reporte de la mision.\n",
      "    Tiempo total de mision: 76min\n",
      "    Destino: Moon\n",
      "    Combustible total: 500000 litros\n",
      "    Combustible en main: 300000 litros\n",
      "    Combustible en external: 200000 litros\n",
      "\n"
     ]
    }
   ],
   "source": [
    "def rep_mision3(destino, *tiempo, **combustible):\n",
    "    reporte = f\"\"\"Reporte de la mision.\n",
    "    Tiempo total de mision: {sum(tiempo)}min\n",
    "    Destino: {destino}\n",
    "    Combustible total: {sum(combustible.values())} litros\\n\"\"\"\n",
    "    for tanque in combustible.keys():\n",
    "        reporte += f\"\"\"    Combustible en {tanque}: {combustible[tanque]} litros\\n\"\"\"\n",
    "    return reporte\n",
    "\n",
    "print(rep_mision3(\"Moon\", 10, 15, 51, main=300000, external=200000))"
   ]
  }
 ],
 "metadata": {
  "interpreter": {
   "hash": "132545760ff53e49f2fcfb7a5e2969b210c722c80e10ccdc0caa4a7a19b3c8e1"
  },
  "kernelspec": {
   "display_name": "Python 3.7.3 ('base')",
   "language": "python",
   "name": "python3"
  },
  "language_info": {
   "codemirror_mode": {
    "name": "ipython",
    "version": 3
   },
   "file_extension": ".py",
   "mimetype": "text/x-python",
   "name": "python",
   "nbconvert_exporter": "python",
   "pygments_lexer": "ipython3",
   "version": "3.7.3"
  },
  "orig_nbformat": 4
 },
 "nbformat": 4,
 "nbformat_minor": 2
}
